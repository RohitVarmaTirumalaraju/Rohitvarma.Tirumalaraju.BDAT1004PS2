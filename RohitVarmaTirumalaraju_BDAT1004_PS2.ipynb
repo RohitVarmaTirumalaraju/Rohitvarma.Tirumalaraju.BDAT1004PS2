{
 "cells": [
  {
   "cell_type": "markdown",
   "id": "2f943ba0",
   "metadata": {},
   "source": [
    "# PROBLEM SET 2 \n",
    "## Name : Rohit Varma Tirumalaraju\n",
    "## SID : 200490483\n",
    "## BDAT 1004 – Data Programming PS2"
   ]
  },
  {
   "cell_type": "markdown",
   "id": "64c02a91",
   "metadata": {},
   "source": [
    "# Question 1"
   ]
  },
  {
   "cell_type": "markdown",
   "id": "4dc3f579",
   "metadata": {},
   "source": [
    "\n",
    "Consider the following Python module:\n",
    "a = 0\n",
    "def b():\n",
    " global a\n",
    " a = c(a)\n",
    "def c(a):\n",
    " return a + 2\n",
    "After importing the module into the interpreter, you execute:\n",
    ">>> b()\n",
    ">>> b()\n",
    ">>> b()\n",
    ">>> a\n",
    "?\n",
    "\n",
    "What value is displayed when the last expression (a) is evaluated? Explain your\n",
    "answer by indicating what happens in every executed statement."
   ]
  },
  {
   "cell_type": "code",
   "execution_count": 1,
   "id": "d2882f2a",
   "metadata": {},
   "outputs": [
    {
     "name": "stdout",
     "output_type": "stream",
     "text": [
      "6\n"
     ]
    }
   ],
   "source": [
    "a = 0\n",
    "def b():\n",
    " global a\n",
    " a = c(a)\n",
    "def c(a):\n",
    " return a + 2\n",
    "\n",
    "b()\n",
    "b()\n",
    "b()\n",
    "print(a)"
   ]
  },
  {
   "cell_type": "markdown",
   "id": "c59c24ec",
   "metadata": {},
   "source": [
    "# Explaination:\n",
    "In the given python  module, 'a' is defined as a global variable inside the 'b()' function. When we use the b() method, it executes another function called c(a), which increments the value of 'a' by 2 for each iteration. As a result, the value of 'a' after three calls to the b() method is 6."
   ]
  },
  {
   "cell_type": "markdown",
   "id": "a25697c8",
   "metadata": {},
   "source": [
    "# Question 2"
   ]
  },
  {
   "cell_type": "markdown",
   "id": "820c1ac5",
   "metadata": {},
   "source": [
    "Function fileLength(), given to you, takes the name of a file as input and returns\n",
    "the length of the file:\n",
    ">>> fileLength('midterm.py')\n",
    "284\n",
    ">>> fileLength('idterm.py')\n",
    "Traceback (most recent call last):\n",
    "File \"<pyshell#34>\", line 1, in <module>\n",
    " fileLength('idterm.py')\n",
    "File \"/Users/me/midterm.py\", line 3, in fileLength\n",
    " infile = open(filename)\n",
    "FileNotFoundError: [Errno 2] No such file or directory:\n",
    "'idterm.py'\n",
    "As shown above, if the file cannot be found by the interpreter or if it cannot be read\n",
    "as a text file, an exception will be raised. Modify function fileLength() so that a\n",
    "friendly message is printed instead:\n",
    ">>> fileLength('midterm.py')\n",
    "358\n",
    ">>> fileLength('idterm.py')\n",
    "File idterm.py not found.\n"
   ]
  },
  {
   "cell_type": "code",
   "execution_count": 9,
   "id": "af0216da",
   "metadata": {},
   "outputs": [
    {
     "name": "stdout",
     "output_type": "stream",
     "text": [
      "123\n",
      "File 'idterm.py' not found. \n"
     ]
    }
   ],
   "source": [
    "def file_length(filename): \n",
    "    try:         \n",
    "        file = open(filename,\"r\")\n",
    "        contents = file.read()\n",
    "        file.close()\n",
    "        print(len(contents))\n",
    "    except FileNotFoundError:\n",
    "        print(\"File '\" +filename+ \"' not found. \")\n",
    "        \n",
    "file_length(\"C:\\\\Users\\\\dedee\\\\Downloads\\\\PS2\\\\Filelength.txt.txt\")\n",
    "file_length(\"idterm.py\")"
   ]
  },
  {
   "cell_type": "markdown",
   "id": "e2aa6242",
   "metadata": {},
   "source": [
    "# Question 3"
   ]
  },
  {
   "cell_type": "markdown",
   "id": "864d4397",
   "metadata": {},
   "source": [
    "Write a class named Marsupial that can be used as shown below:\n",
    ">>> m = Marsupial()\n",
    ">>> m.put_in_pouch('doll')\n",
    ">>> m.put_in_pouch('firetruck')\n",
    ">>> m.put_in_pouch('kitten')\n",
    ">>> m.pouch_contents()\n",
    "['doll', 'firetruck', 'kitten']\n",
    "\n"
   ]
  },
  {
   "cell_type": "code",
   "execution_count": 11,
   "id": "e0ec52b8",
   "metadata": {},
   "outputs": [
    {
     "data": {
      "text/plain": [
       "['Doll', 'Firetruck', 'Kitten']"
      ]
     },
     "execution_count": 11,
     "metadata": {},
     "output_type": "execute_result"
    }
   ],
   "source": [
    "class Marsupial:\n",
    "    # gets the list of marsupial animals so far included\n",
    "\n",
    "    def __init__(self):\n",
    "        self._animalsList = [] \n",
    "        \n",
    "    def put_in_pouch(self,animal):\n",
    "        self._animalsList  = self._animalsList + [animal]   \n",
    "        \n",
    "    def pouch_contents(self):\n",
    "        return self._animalsList\n",
    "    \n",
    "m = Marsupial() \n",
    "m.put_in_pouch('Doll')\n",
    "m.put_in_pouch('Firetruck')\n",
    "m.put_in_pouch('Kitten')\n",
    "m.pouch_contents()"
   ]
  },
  {
   "cell_type": "markdown",
   "id": "2c48b782",
   "metadata": {},
   "source": [
    "Now write a class named Kangaroo as a subclass of Marsupial that inherits all the\n",
    "attributes of Marsupial and also:\n",
    "a. extends the Marsupial __init__ constructor to take, as input, the\n",
    "coordinates x and y of the Kangaroo object,\n",
    "b. supports method jump that takes number values dx and dy as input and\n",
    "moves the kangaroo by dx units along the x-axis and by dy units along the yaxis, and\n",
    "c. overloads the __str__ operator so it behaves as shown below.\n",
    ">>> k = Kangaroo(0,0)\n",
    ">>> print(k)\n",
    "I am a Kangaroo located at coordinates (0,0)\n",
    ">>> k.put_in_pouch('doll')\n",
    ">>> k.put_in_pouch('firetruck')\n",
    ">>> k.put_in_pouch('kitten')\n",
    ">>> k.pouch_contents()\n",
    "['doll', 'firetruck', 'kitten']\n",
    ">>> k.jump(1,0)\n",
    ">>> k.jump(1,0)\n",
    ">>> k.jump(1,0)\n",
    ">>> print(k)\n",
    "I am a Kangaroo located at coordinates (3,0)"
   ]
  },
  {
   "cell_type": "code",
   "execution_count": 12,
   "id": "0e91f243",
   "metadata": {},
   "outputs": [],
   "source": [
    "class Kangaroo(Marsupial):\n",
    "    \n",
    "    def __init__(self,x,y):\n",
    "        Marsupial.__init__(self)\n",
    "        self.x = x\n",
    "        self.y = y\n",
    "        \n",
    "    def jump(self,dx,dy):  \n",
    "        self.x += dx\n",
    "        self.y += dy \n",
    "        \n",
    "    def __str__(self): \n",
    "        return \"I am a kangaroo located at coordinates ({},{})\".format(self.x, self.y)"
   ]
  },
  {
   "cell_type": "code",
   "execution_count": 13,
   "id": "bca9d61a",
   "metadata": {},
   "outputs": [
    {
     "name": "stdout",
     "output_type": "stream",
     "text": [
      "I am a kangaroo located at coordinates (0,0)\n"
     ]
    }
   ],
   "source": [
    "k = Kangaroo(0,0) \n",
    "print(k)"
   ]
  },
  {
   "cell_type": "code",
   "execution_count": 14,
   "id": "02c2f9ae",
   "metadata": {},
   "outputs": [
    {
     "data": {
      "text/plain": [
       "['Doll', 'Firetruck', 'Kitten']"
      ]
     },
     "execution_count": 14,
     "metadata": {},
     "output_type": "execute_result"
    }
   ],
   "source": [
    "k.put_in_pouch('Doll') \n",
    "k.put_in_pouch('Firetruck')\n",
    "k.put_in_pouch('Kitten')\n",
    "k.pouch_contents() "
   ]
  },
  {
   "cell_type": "code",
   "execution_count": 9,
   "id": "57d08e9f",
   "metadata": {},
   "outputs": [
    {
     "name": "stdout",
     "output_type": "stream",
     "text": [
      "I am a kangaroo located at coordinates (3,0)\n"
     ]
    }
   ],
   "source": [
    "k.jump(1,0) \n",
    "k.jump(1,0)\n",
    "k.jump(1,0)\n",
    "print(k)"
   ]
  },
  {
   "cell_type": "markdown",
   "id": "8d2580cb",
   "metadata": {},
   "source": [
    "# Question 4"
   ]
  },
  {
   "cell_type": "markdown",
   "id": "fefbfff2",
   "metadata": {},
   "source": [
    "Write function collatz() that takes a positive integer x as input and prints the\n",
    "Collatz sequence starting at x. A Collatz sequence is obtained by repeatedly applying\n",
    "this rule to the previous number x in the sequence:\n",
    "x = {\n",
    "𝑥/2 𝑖𝑓 𝑥 𝑖𝑠 𝑒𝑣𝑒𝑛\n",
    "3𝑥 + 1 𝑖𝑓 𝑥 𝑖𝑠 𝑜𝑑𝑑\n",
    "Your function should stop when the sequence gets to number 1. Your\n",
    "implementation must be recursive, without any loops. "
   ]
  },
  {
   "cell_type": "code",
   "execution_count": 15,
   "id": "88ed8338",
   "metadata": {},
   "outputs": [],
   "source": [
    "def collatz(x):\n",
    "   \n",
    "    if(type(x) == int and x >0):\n",
    "        if x <=1:         \n",
    "            print(int(x))\n",
    "        else:            \n",
    "            if(x % 2 == 0):\n",
    "                print(int(x))             \n",
    "                collatz(int(x/2))\n",
    "            else:\n",
    "                print(int(x))            \n",
    "                collatz(int(3*x+1))\n",
    "    else:            \n",
    "        print(x+ \"is not a positive integer\")\n",
    "        "
   ]
  },
  {
   "cell_type": "code",
   "execution_count": 44,
   "id": "5f28cc22",
   "metadata": {},
   "outputs": [
    {
     "name": "stdout",
     "output_type": "stream",
     "text": [
      "1\n"
     ]
    }
   ],
   "source": [
    "collatz(1)"
   ]
  },
  {
   "cell_type": "code",
   "execution_count": 45,
   "id": "09803a1a",
   "metadata": {},
   "outputs": [
    {
     "name": "stdout",
     "output_type": "stream",
     "text": [
      "10\n",
      "5\n",
      "16\n",
      "8\n",
      "4\n",
      "2\n",
      "1\n"
     ]
    }
   ],
   "source": [
    "collatz(10)"
   ]
  },
  {
   "cell_type": "markdown",
   "id": "b906b873",
   "metadata": {},
   "source": [
    "# Question 5"
   ]
  },
  {
   "cell_type": "markdown",
   "id": "fb6d6e7e",
   "metadata": {},
   "source": [
    "Write a recursive method binary() that takes a non-negative\n",
    "integer n and prints the binary representation of integer n.\n",
    ">>> binary(0)\n",
    "0\n",
    ">>> binary(1)\n",
    "1\n",
    ">>> binary(3)\n",
    "11\n",
    ">>> binary(9)\n",
    "1001"
   ]
  },
  {
   "cell_type": "code",
   "execution_count": 20,
   "id": "075d0e3d",
   "metadata": {},
   "outputs": [],
   "source": [
    "def binary(x):  \n",
    "    if x<=-1:\n",
    "        print('{}'.format(x), \"is not non-negative number or not integer\")\n",
    "    else: \n",
    "        print(format(x,\"b\")) #The format() method returns a formated version in specified format.\n"
   ]
  },
  {
   "cell_type": "code",
   "execution_count": 21,
   "id": "c5c78701",
   "metadata": {},
   "outputs": [
    {
     "name": "stdout",
     "output_type": "stream",
     "text": [
      "0\n"
     ]
    }
   ],
   "source": [
    "binary(0)"
   ]
  },
  {
   "cell_type": "code",
   "execution_count": 22,
   "id": "fafa0e01",
   "metadata": {},
   "outputs": [
    {
     "name": "stdout",
     "output_type": "stream",
     "text": [
      "1\n"
     ]
    }
   ],
   "source": [
    "binary(1)"
   ]
  },
  {
   "cell_type": "code",
   "execution_count": 23,
   "id": "2d174ca4",
   "metadata": {},
   "outputs": [
    {
     "name": "stdout",
     "output_type": "stream",
     "text": [
      "11\n"
     ]
    }
   ],
   "source": [
    "binary(3)"
   ]
  },
  {
   "cell_type": "code",
   "execution_count": 24,
   "id": "54d1f8e7",
   "metadata": {},
   "outputs": [
    {
     "name": "stdout",
     "output_type": "stream",
     "text": [
      "1001\n"
     ]
    }
   ],
   "source": [
    "binary(9)"
   ]
  },
  {
   "cell_type": "code",
   "execution_count": 25,
   "id": "bb1dc12d",
   "metadata": {},
   "outputs": [
    {
     "name": "stdout",
     "output_type": "stream",
     "text": [
      "-10 is not non-negative number or not integer\n"
     ]
    }
   ],
   "source": [
    "binary(-10)"
   ]
  },
  {
   "cell_type": "markdown",
   "id": "f9ffd7f5",
   "metadata": {},
   "source": [
    "# Question 6"
   ]
  },
  {
   "cell_type": "markdown",
   "id": "10d5f1a5",
   "metadata": {},
   "source": [
    "Implement a class named HeadingParser that can be used to parse an HTML\n",
    "document, and retrieve and print all the headings in the document. You should\n",
    "implement your class as a subclass of HTMLParser, defined in Standard Library\n",
    "module html.parser. When fed a string containing HTML code, your class should\n",
    "print the headings, one per line and in the order in which they appear in the\n",
    "document. Each heading should be indented as follows: an h1 heading should have indentation 0, and h2 heading should have indentation 1, etc. Test your\n",
    "implementation using w3c.html."
   ]
  },
  {
   "cell_type": "code",
   "execution_count": 48,
   "id": "8f4cfcd9",
   "metadata": {},
   "outputs": [],
   "source": [
    "from html.parser import HTMLParser\n",
    "class HeadingParser(HTMLParser):\n",
    "    \n",
    "    def __init__(self):\n",
    "        HTMLParser.__init__(self)\n",
    "        self.heading = False\n",
    "        self.indent = 0    \n",
    "\n",
    "    def handle_starttag(self, tag, attrs):\n",
    "        if tag == 'h1':\n",
    "            self.heading=True\n",
    "        elif tag == 'h2':\n",
    "            self.heading=True\n",
    "            self.indent=1\n",
    "            \n",
    "    def handle_data(self,content):\n",
    "        if (self.heading and self.indent ==0):   \n",
    "            print(content) #prints h1\n",
    "        elif (self.heading and self.indent ==1): \n",
    "            print(' ',content)    #prints h2"
   ]
  },
  {
   "cell_type": "code",
   "execution_count": 50,
   "id": "ce6e20fe",
   "metadata": {},
   "outputs": [
    {
     "name": "stdout",
     "output_type": "stream",
     "text": [
      "W3C Mission\n",
      "\n",
      "\t\n",
      "  Principles\n",
      "  \n",
      " \n",
      "\n",
      "\n",
      "\n",
      "  \n",
      "\n"
     ]
    }
   ],
   "source": [
    "infile = open(\"C:\\\\Users\\\\dedee\\\\Downloads\\\\PS2\\w3c.txt.txt\", \"r\")\n",
    "content = infile.read()\n",
    "infile.close()\n",
    "headingparser = HeadingParser() \n",
    "headingparser.feed(content) "
   ]
  },
  {
   "cell_type": "markdown",
   "id": "8a2f7ca6",
   "metadata": {},
   "source": [
    "# Question 7"
   ]
  },
  {
   "cell_type": "markdown",
   "id": "ae07b5f8",
   "metadata": {},
   "source": [
    "Implement recursive function webdir() that takes as input: a URL (as a string) and\n",
    "non-negative integers depth and indent. Your function should visit every web\n",
    "page reachable from the starting URL web page in depth clicks or less, and print\n",
    "each web page's URL. As shown below, indentation, specified by indent, should\n",
    "be used to indicate the depth of a URL.\n",
    ">>>\n",
    "webdir('http://reed.cs.depaul.edu/lperkovic/csc242/test1.html'\n",
    ", 2, 0)\n",
    "http://reed.cs.depaul.edu/lperkovic/csc242/test1.html\n",
    " http://reed.cs.depaul.edu/lperkovic/csc242/test2.html\n",
    " http://reed.cs.depaul.edu/lperkovic/csc242/test4.html\n",
    " http://reed.cs.depaul.edu/lperkovic/csc242/test3.html\n",
    " http://reed.cs.depaul.edu/lperkovic/csc242/test4.html"
   ]
  },
  {
   "cell_type": "code",
   "execution_count": 28,
   "id": "2267eca5",
   "metadata": {},
   "outputs": [
    {
     "name": "stdout",
     "output_type": "stream",
     "text": [
      "http://reed.cs.depaul.edu/lperkovic/one.html\n",
      "\t http://reed.cs.depaul.edu/lperkovic/two.html\n",
      " http://reed.cs.depaul.edu/lperkovic/two.html\n",
      " http://reed.cs.depaul.edu/lperkovic/four.html\n"
     ]
    }
   ],
   "source": [
    "from urllib.parse import urljoin\n",
    "from urllib.request import urlopen\n",
    "from html.parser import HTMLParser\n",
    "class Collector(HTMLParser):\n",
    "    def __init__(self, url):\n",
    "        HTMLParser.__init__(self)\n",
    "        self.url = url\n",
    "        self.links = []\n",
    "\n",
    "    def handle_starttag(self, tag, attrs):\n",
    "        if tag == 'a':\n",
    "            for attr in attrs:\n",
    "                if attr[0] == 'href':\n",
    "                    # construct absolute URL\n",
    "                    absolute = urljoin(self.url, attr[1])\n",
    "                    if absolute[:4] == 'http': # collect HTTP URLs\n",
    "                        self.links.append(absolute)\n",
    "                        \n",
    "    def getLinks(self):\n",
    "        'returns hyperlinks URLs in their absolute format'\n",
    "        return self.links\n",
    "\n",
    "    \n",
    "def analyze(url):\n",
    "    \n",
    "    if len(visited) ==1:\n",
    "        print(url)\n",
    "    content = urlopen(url).read().decode()\n",
    "    collector = Collector(url)\n",
    "    collector.feed(content)\n",
    "    urls = collector.getLinks()         \n",
    "    return urls\n",
    "\n",
    "\n",
    "visited= set()\n",
    "\n",
    "def webdir(url,depth,indent):\n",
    "   \n",
    "    first_url=url\n",
    "    global visited \n",
    "    visited.add(url)\n",
    "\n",
    "    links = analyze(url)\n",
    "    for link in links:\n",
    "        if link not in visited:\n",
    "            try:                \n",
    "                if len(visited) <= depth:\n",
    "                    if len(visited) <= (depth-1):\n",
    "                        print( (depth-1)*'\\t',link)\n",
    "                    print( indent*'\\t',link)\n",
    "                webdir(link,depth,indent)                \n",
    "            except:\n",
    "                pass\n",
    "\n",
    "webdir('http://reed.cs.depaul.edu/lperkovic/one.html', 2, 0)"
   ]
  },
  {
   "cell_type": "markdown",
   "id": "ec4ae839",
   "metadata": {},
   "source": [
    "# Question 8"
   ]
  },
  {
   "cell_type": "markdown",
   "id": "1d4454e8",
   "metadata": {},
   "source": [
    "Write SQL queries on the below database table that return:\n",
    "a) All the temperature data.\n",
    "b) All the cities, but without repetition.\n",
    "c) All the records for India.\n",
    "d) All the Fall records\n",
    "e) The city, country, and season for which the average rainfall is between 200\n",
    "and 400 millimeters.\n",
    "f) The city and country for which the average Fall temperature is above 20\n",
    "degrees, in increasing temperature order.\n",
    "g) The total annual rainfall for Cairo.\n",
    "h) The total rainfall for each season."
   ]
  },
  {
   "cell_type": "code",
   "execution_count": 29,
   "id": "239a05af",
   "metadata": {},
   "outputs": [
    {
     "name": "stdout",
     "output_type": "stream",
     "text": [
      "('London', 'United Kingdom', 'Winter', 4.2, 207.7)\n",
      "('London', 'United Kingdom', 'Spring', 8.3, 169.6)\n",
      "('London', 'United Kingdom', 'Fall', 10.4, 218.5)\n",
      "('Cairo', 'Egypt', 'Winter', 13.6, 16.5)\n",
      "('London', 'United Kingdom', 'Summer', 15.7, 157.0)\n",
      "('Cairo', 'Egypt', 'Spring', 20.7, 6.5)\n",
      "('Cairo', 'Egypt', 'Fall', 22.2, 4.5)\n",
      "('Mumbai', 'India', 'Winter', 24.8, 5.9)\n",
      "('Mumbai', 'India', 'Fall', 27.6, 346.0)\n",
      "('Cairo', 'Egypt', 'Summer', 27.7, 0.1)\n",
      "('Mumbai', 'India', 'Summer', 27.9, 1549.4)\n",
      "('Mumbai', 'India', 'Spring', 28.4, 16.2)\n"
     ]
    }
   ],
   "source": [
    "import sqlite3\n",
    "con = sqlite3.connect('TempandRaindata.db')\n",
    "cur = con.cursor()\n",
    "cur.execute('DROP TABLE IF EXISTS TempandRaindata')\n",
    "cur.execute(''' CREATE TABLE TempandRaindata(\n",
    "            City text,\n",
    "            Country text,\n",
    "            Season text,\n",
    "            Temperature float,\n",
    "            Rainfall float\n",
    "                                    )\n",
    "            ''')\n",
    "cur.execute('''\n",
    "INSERT INTO TempandRaindata (City, Country, Season,Temperature, Rainfall)\n",
    "VALUES\n",
    " ('Mumbai', 'India', 'Winter', 24.8, 5.9),\n",
    " ('Mumbai', 'India', 'Spring', 28.4, 16.2),\n",
    " ('Mumbai', 'India', 'Summer', 27.9, 1549.4),\n",
    " ('Mumbai', 'India', 'Fall', 27.6, 346),\n",
    " ('London', 'United Kingdom', 'Winter', 4.2, 207.7),\n",
    " ('London', 'United Kingdom', 'Spring', 8.3, 169.6),\n",
    " ('London', 'United Kingdom', 'Summer', 15.7, 157),\n",
    " ('London', 'United Kingdom', 'Fall', 10.4, 218.5),\n",
    " ('Cairo', 'Egypt', 'Winter', 13.6, 16.5),\n",
    " ('Cairo', 'Egypt', 'Spring', 20.7, 6.5),\n",
    " ('Cairo', 'Egypt', 'Summer', 27.7, 0.1),\n",
    " ('Cairo', 'Egypt', 'Fall', 22.2, 4.5)\n",
    "'''\n",
    ")\n",
    "con.commit() \n",
    "#check inserted data\n",
    "for row in cur.execute('SELECT * FROM TempandRaindata ORDER BY Temperature'):\n",
    "        print(row)"
   ]
  },
  {
   "cell_type": "markdown",
   "id": "603a8997",
   "metadata": {},
   "source": [
    "### a) All the temperature data."
   ]
  },
  {
   "cell_type": "code",
   "execution_count": 30,
   "id": "48408fa1",
   "metadata": {},
   "outputs": [
    {
     "data": {
      "text/plain": [
       "[(24.8,),\n",
       " (28.4,),\n",
       " (27.9,),\n",
       " (27.6,),\n",
       " (4.2,),\n",
       " (8.3,),\n",
       " (15.7,),\n",
       " (10.4,),\n",
       " (13.6,),\n",
       " (20.7,),\n",
       " (27.7,),\n",
       " (22.2,)]"
      ]
     },
     "execution_count": 30,
     "metadata": {},
     "output_type": "execute_result"
    }
   ],
   "source": [
    "cur.execute(\"SELECT Temperature FROM TempandRaindata\")\n",
    "cur.fetchall()"
   ]
  },
  {
   "cell_type": "markdown",
   "id": "6757b5aa",
   "metadata": {},
   "source": [
    "### b) All the cities, but without repetition."
   ]
  },
  {
   "cell_type": "code",
   "execution_count": 31,
   "id": "a4b156d5",
   "metadata": {},
   "outputs": [
    {
     "data": {
      "text/plain": [
       "[('Mumbai',), ('London',), ('Cairo',)]"
      ]
     },
     "execution_count": 31,
     "metadata": {},
     "output_type": "execute_result"
    }
   ],
   "source": [
    "cur.execute(\"SELECT Distinct City FROM TempandRaindata\")\n",
    "cur.fetchall()"
   ]
  },
  {
   "cell_type": "markdown",
   "id": "4109d18a",
   "metadata": {},
   "source": [
    "### c) All the records for India."
   ]
  },
  {
   "cell_type": "code",
   "execution_count": 32,
   "id": "69a6226b",
   "metadata": {},
   "outputs": [
    {
     "data": {
      "text/plain": [
       "[('Mumbai', 'India', 'Winter', 24.8, 5.9),\n",
       " ('Mumbai', 'India', 'Spring', 28.4, 16.2),\n",
       " ('Mumbai', 'India', 'Summer', 27.9, 1549.4),\n",
       " ('Mumbai', 'India', 'Fall', 27.6, 346.0)]"
      ]
     },
     "execution_count": 32,
     "metadata": {},
     "output_type": "execute_result"
    }
   ],
   "source": [
    "cur.execute(\"SELECT * FROM TempandRaindata WHERE Country = 'India' \")\n",
    "cur.fetchall()"
   ]
  },
  {
   "cell_type": "markdown",
   "id": "378eaf79",
   "metadata": {},
   "source": [
    "### d) All the Fall records"
   ]
  },
  {
   "cell_type": "code",
   "execution_count": 33,
   "id": "be35946c",
   "metadata": {},
   "outputs": [
    {
     "data": {
      "text/plain": [
       "[('Mumbai', 'India', 'Fall', 27.6, 346.0),\n",
       " ('London', 'United Kingdom', 'Fall', 10.4, 218.5),\n",
       " ('Cairo', 'Egypt', 'Fall', 22.2, 4.5)]"
      ]
     },
     "execution_count": 33,
     "metadata": {},
     "output_type": "execute_result"
    }
   ],
   "source": [
    "cur.execute(\"SELECT * FROM TempandRaindata WHERE Season = 'Fall' \")\n",
    "cur.fetchall()"
   ]
  },
  {
   "cell_type": "markdown",
   "id": "a6a94adb",
   "metadata": {},
   "source": [
    "### e) The city, country, and season for which the average rainfall is between 200 and 400 millimeters."
   ]
  },
  {
   "cell_type": "code",
   "execution_count": 34,
   "id": "961d5ff8",
   "metadata": {},
   "outputs": [
    {
     "data": {
      "text/plain": [
       "[('Mumbai', 'India', 'Fall'),\n",
       " ('London', 'United Kingdom', 'Winter'),\n",
       " ('London', 'United Kingdom', 'Fall')]"
      ]
     },
     "execution_count": 34,
     "metadata": {},
     "output_type": "execute_result"
    }
   ],
   "source": [
    "cur.execute(\"SELECT City, Country, Season FROM TempandRaindata WHERE Rainfall BETWEEN 200 AND 400 \")\n",
    "cur.fetchall()"
   ]
  },
  {
   "cell_type": "markdown",
   "id": "beb8990c",
   "metadata": {},
   "source": [
    "### f) The city and country for which the average Fall temperature is above 20 degrees, in increasing temperature order."
   ]
  },
  {
   "cell_type": "code",
   "execution_count": 35,
   "id": "a526e07d",
   "metadata": {},
   "outputs": [
    {
     "data": {
      "text/plain": [
       "[('Cairo', 'Egypt'), ('Mumbai', 'India')]"
      ]
     },
     "execution_count": 35,
     "metadata": {},
     "output_type": "execute_result"
    }
   ],
   "source": [
    "cur.execute(\"SELECT City, Country FROM TempandRaindata WHERE Season = 'Fall' AND Temperature>20 ORDER BY Temperature \")\n",
    "cur.fetchall()"
   ]
  },
  {
   "cell_type": "markdown",
   "id": "85bd9c99",
   "metadata": {},
   "source": [
    "### g) The total annual rainfall for Cairo."
   ]
  },
  {
   "cell_type": "code",
   "execution_count": 36,
   "id": "ebc759b5",
   "metadata": {},
   "outputs": [
    {
     "data": {
      "text/plain": [
       "[(27.6,)]"
      ]
     },
     "execution_count": 36,
     "metadata": {},
     "output_type": "execute_result"
    }
   ],
   "source": [
    "cur.execute(\"SELECT SUM(Rainfall) FROM TempandRaindata WHERE City = 'Cairo' \")\n",
    "cur.fetchall()"
   ]
  },
  {
   "cell_type": "markdown",
   "id": "e5f84f2e",
   "metadata": {},
   "source": [
    "### h) The total rainfall for each season."
   ]
  },
  {
   "cell_type": "code",
   "execution_count": 37,
   "id": "26cfeb74",
   "metadata": {},
   "outputs": [
    {
     "data": {
      "text/plain": [
       "[(569.0, 'Fall'),\n",
       " (192.29999999999998, 'Spring'),\n",
       " (1706.5, 'Summer'),\n",
       " (230.1, 'Winter')]"
      ]
     },
     "execution_count": 37,
     "metadata": {},
     "output_type": "execute_result"
    }
   ],
   "source": [
    "cur.execute('SELECT SUM(Rainfall),Season FROM TempandRaindata GROUP BY Season' )\n",
    "cur.fetchall()"
   ]
  },
  {
   "cell_type": "markdown",
   "id": "efca1f8e",
   "metadata": {},
   "source": [
    "# Question 9"
   ]
  },
  {
   "cell_type": "markdown",
   "id": "9d6f6b88",
   "metadata": {},
   "source": [
    "Suppose list words is defined as follows:\n",
    ">words = ['The', 'quick', 'brown', 'fox', 'jumps', 'over','the', 'lazy', 'dog']\n",
    "\n",
    ">>Write list comprehension expressions that use list words and generate the following\n",
    "lists:"
   ]
  },
  {
   "cell_type": "code",
   "execution_count": 38,
   "id": "73056d2c",
   "metadata": {},
   "outputs": [],
   "source": [
    "words = ['The', 'quick', 'brown', 'fox', 'jumps', 'over','the', 'lazy', 'dog']"
   ]
  },
  {
   "cell_type": "markdown",
   "id": "15702da3",
   "metadata": {},
   "source": [
    "#### a) ['THE', 'QUICK', 'BROWN', 'FOX', 'JUMPS', 'OVER', 'THE','LAZY', 'DOG']"
   ]
  },
  {
   "cell_type": "code",
   "execution_count": 39,
   "id": "903b86eb",
   "metadata": {},
   "outputs": [
    {
     "data": {
      "text/plain": [
       "['THE', 'QUICK', 'BROWN', 'FOX', 'JUMPS', 'OVER', 'THE', 'LAZY', 'DOG']"
      ]
     },
     "execution_count": 39,
     "metadata": {},
     "output_type": "execute_result"
    }
   ],
   "source": [
    "wordsupper = [word.upper()  for word in words]\n",
    "wordsupper"
   ]
  },
  {
   "cell_type": "markdown",
   "id": "f655f94b",
   "metadata": {},
   "source": [
    "#### b) ['the', 'quick', 'brown', 'fox', 'jumps', 'over', 'the','lazy', 'dog']"
   ]
  },
  {
   "cell_type": "code",
   "execution_count": 40,
   "id": "b2d0eeac",
   "metadata": {},
   "outputs": [
    {
     "data": {
      "text/plain": [
       "['the', 'quick', 'brown', 'fox', 'jumps', 'over', 'the', 'lazy', 'dog']"
      ]
     },
     "execution_count": 40,
     "metadata": {},
     "output_type": "execute_result"
    }
   ],
   "source": [
    "wordslower = [word.lower()  for word in words]\n",
    "wordslower"
   ]
  },
  {
   "cell_type": "markdown",
   "id": "852982f6",
   "metadata": {},
   "source": [
    "#### c) [3, 5, 5, 3, 5, 4, 3, 4, 3] (the list of lengths of words in list words)."
   ]
  },
  {
   "cell_type": "code",
   "execution_count": 41,
   "id": "29b60d14",
   "metadata": {},
   "outputs": [
    {
     "data": {
      "text/plain": [
       "[3, 5, 5, 3, 5, 4, 3, 4, 3]"
      ]
     },
     "execution_count": 41,
     "metadata": {},
     "output_type": "execute_result"
    }
   ],
   "source": [
    "wordslen = [len(word)  for word in words]\n",
    "wordslen"
   ]
  },
  {
   "cell_type": "markdown",
   "id": "f6b10bea",
   "metadata": {},
   "source": [
    "#### d) [['THE', 'the', 3], ['QUICK', 'quick', 5], ['BROWN','brown', 5], ['FOX', 'fox', 3], ['JUMPS', 'jumps', 5],['OVER', 'over', 4], ['THE', 'the', 3], ['LAZY', 'lazy',4], ['DOG', 'dog', 3]] (the list containing a list for every word of list words, where each list contains the word in uppercase and lowercase and the length of the word.)"
   ]
  },
  {
   "cell_type": "code",
   "execution_count": 42,
   "id": "03305473",
   "metadata": {},
   "outputs": [
    {
     "data": {
      "text/plain": [
       "[['THE', 'the', 3],\n",
       " ['QUICK', 'quick', 5],\n",
       " ['BROWN', 'brown', 5],\n",
       " ['FOX', 'fox', 3],\n",
       " ['JUMPS', 'jumps', 5],\n",
       " ['OVER', 'over', 4],\n",
       " ['THE', 'the', 3],\n",
       " ['LAZY', 'lazy', 4],\n",
       " ['DOG', 'dog', 3]]"
      ]
     },
     "execution_count": 42,
     "metadata": {},
     "output_type": "execute_result"
    }
   ],
   "source": [
    "wordsULL = [[word.upper(),word.lower(),len(word)] for word in words]\n",
    "wordsULL"
   ]
  },
  {
   "cell_type": "markdown",
   "id": "e85f5913",
   "metadata": {},
   "source": [
    "### e) ['The', 'quick', 'brown', 'fox', 'jumps', 'over', 'the','lazy', 'dog'] (the list of words in list words containing 4 or more characters.)"
   ]
  },
  {
   "cell_type": "code",
   "execution_count": 43,
   "id": "08e20b3a",
   "metadata": {},
   "outputs": [
    {
     "data": {
      "text/plain": [
       "['quick', 'brown', 'jumps', 'over', 'lazy']"
      ]
     },
     "execution_count": 43,
     "metadata": {},
     "output_type": "execute_result"
    }
   ],
   "source": [
    "lenword4 = [word for word in words if len(word)>=4]\n",
    "lenword4"
   ]
  },
  {
   "cell_type": "code",
   "execution_count": null,
   "id": "2b208c67",
   "metadata": {},
   "outputs": [],
   "source": []
  }
 ],
 "metadata": {
  "kernelspec": {
   "display_name": "Python 3 (ipykernel)",
   "language": "python",
   "name": "python3"
  },
  "language_info": {
   "codemirror_mode": {
    "name": "ipython",
    "version": 3
   },
   "file_extension": ".py",
   "mimetype": "text/x-python",
   "name": "python",
   "nbconvert_exporter": "python",
   "pygments_lexer": "ipython3",
   "version": "3.9.7"
  }
 },
 "nbformat": 4,
 "nbformat_minor": 5
}
